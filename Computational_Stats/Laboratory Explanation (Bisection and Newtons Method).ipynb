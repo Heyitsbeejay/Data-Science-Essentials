{
 "cells": [
  {
   "attachments": {},
   "cell_type": "markdown",
   "metadata": {},
   "source": [
    "##   Laboratory Exercise: Univariate Optimization (Bisection Method and Newton's Method)\n",
    "DS321: Computational Statistics <br>\n",
    "University of Science and Technology of Southern Philippines <br>\n",
    "\n",
    "## Student Name: <code>Joear T. Berdon</code>\n",
    "\n",
    "\n",
    "Instructor: **Romen Samuel Wabina, MSc** <br>\n",
    "MSc Data Science and AI | Asian Institute of Technology <br>\n",
    "PhD Data Science (Healthcare and Clinical Informatics) \n",
    "\n",
    "\n",
    "### Instructions\n",
    "- Please submit this laboratory exercise as a **Jupyter Notebook file** <code>.ipynb</code> via email <code>romensamuelrodis.wab@student.mahidol.edu</code>\n",
    "- For Exercises 1 and 2, I took the liberty to create the functions <code>bisection</code> and <code>newtons</code> that prints the root for every iteration and returns the local optima of the given function. \n",
    "- Deadline will be on **18 March 2023** at **9AM**.\n",
    "- Always remember: I use GPTZero "
   ]
  },
  {
   "cell_type": "markdown",
   "metadata": {},
   "source": [
    "\n",
    "### Bisection Method\n",
    "**Exercise 1** Please explain the given code below (i.e., guide questions: explain the parameters <code>f, A, B, TOL, N</code> of the function, how can it be used). \n"
   ]
  },
  {
   "cell_type": "code",
   "execution_count": 1,
   "metadata": {},
   "outputs": [
    {
     "name": "stdout",
     "output_type": "stream",
     "text": [
      "Iteration 0: \t 1.5\n",
      "Iteration 1: \t 1.75\n",
      "Iteration 2: \t 1.625\n",
      "Iteration 3: \t 1.5625\n",
      "Iteration 4: \t 1.53125\n",
      "Iteration 5: \t 1.515625\n",
      "Iteration 6: \t 1.5234375\n",
      "Iteration 7: \t 1.51953125\n",
      "Iteration 8: \t 1.521484375\n",
      "Iteration 9: \t 1.5205078125\n",
      "Iteration 10: \t 1.52099609375\n",
      "Iteration 11: \t 1.521240234375\n",
      "Iteration 12: \t 1.5213623046875\n",
      "Iteration 13: \t 1.52142333984375\n",
      "Iteration 14: \t 1.521392822265625\n",
      "Iteration 15: \t 1.5213775634765625\n",
      "Bisection method solution: x =  1.5213851928710938\n"
     ]
    }
   ],
   "source": [
    "# this is to import math functions and constants\n",
    "import math\n",
    "\n",
    "#for tolerance, my assumption is that eto yung convergence criterion kung saan magstostop ang iteration and magsatisfy sa condition in which konti na ang value ng error or distance ng approx. solution.\n",
    "\n",
    "# A & B are the initial guesses\n",
    "# TOL is the tolerance\n",
    "# the N refers sa maximum number of iterations\n",
    "\n",
    "TOL = 10**-5\n",
    "A = 1\n",
    "B = 2\n",
    "N = 100\n",
    "\n",
    "#defining the function that we are using\n",
    "\n",
    "def f(x): \n",
    "    return (math.pow(x,3) - x - 2)\n",
    "\n",
    "#    low means the a\n",
    "#    high means the b\n",
    "\n",
    "#implementing the bisection setiing four parameters, which is the given function, initial values a and b, and the tolerance.\n",
    "def bisection(func, low, high, tol, N):\n",
    "    temp = None \n",
    "    if low > high:     #dito mangyayari sa switching between sa low at high or the values of a and b. \n",
    "        low  = temp    #they will switch ang low and high if yung low is greater that high to satisfy the one of the assumptions/conditions in which \"a < b\"\n",
    "        low  = high\n",
    "        high = temp\n",
    "    if func(low)*func(high) > 0:        # this will check kung valid ang input\n",
    "                                        # \"if func(low)*func(high) > 0\" eto yung one of the assumptions or certain conditions of bisection method in which it implies na it has real root between a and b. \n",
    "                                        # f(a) and f(b) are of opposite signs if ang product nila is less than 0.\n",
    "        print(\"Check input for low and high guess (f(low) and f(high) must have different signs)\")\n",
    "    \n",
    "    lastFuncVal = func(low)      # setting the last function value as the function value of a \n",
    "    for i in range(0, N):        # it will reiterate until umabot sa sinet na maximum iteration which is 100 (sa ating sample)\n",
    "        mid = (high+low)/2.0     # finding the midpoint\n",
    "        \n",
    "#    if hindi pa masatisfy ang f(t)= 0, it will update yung values ng a and b that will be used for next iteration\n",
    "\n",
    "        if func(mid) == 0 or (high-low)/2.0 < tol:     # this will check if the midpoint/f(t) = 0 or masatify ang tolerance error na sinet. \n",
    "            return mid                                 # this will return to the value of mid or t as our root or the approximated solution.\n",
    "        print(f'Iteration {i}: \\t {mid}')              # else, magkakaroon ng next iteration and magcocontinue ang pag calculate\n",
    "        \n",
    "        if func(mid)*func(low) > 0:                    # this is to check kung saan nag-exist ang root either [a,t] or [t,b]. Dito mag uupdate ang a and b in which gagamitin for next iteration.\n",
    "            low = mid                                  # if f(t) ∗ f(a) < 0 - yung root lies between [a,t]  else, yung root lies between [t,b]\n",
    "        else:                                          # mag chachange yung value sa a into t if f(t)<0, else if f(t)>0, b = t.\n",
    "            high = mid\n",
    "        lastFuncVal = func(mid)                        #it will update the last function value sa function value ng t  \n",
    "    return \"Method failed after {} iterations\".format(N)   # it will fail if hindi naabot yung certain condition sa sinet na range.\n",
    "\n",
    "print(\"Bisection method solution: x = \", bisection(f, A, B, TOL, N))   #print the output"
   ]
  },
  {
   "cell_type": "markdown",
   "metadata": {},
   "source": [
    "Then, use the <code>bisection</code> function to the following equations. Explain their results. \n",
    "\n",
    "- $f(x) = 3x^{4} + 3x^2 + 45\\sqrt{x}$ with initial interval $[0, 10]$\n",
    "- $f(x) = x^3 - 4x - 9$ at interval $[2, 3]$\n",
    "- $f(x) = x^3 - 4$ at interval $[1, 2]$"
   ]
  },
  {
   "attachments": {},
   "cell_type": "markdown",
   "metadata": {},
   "source": [
    "## Exercise 2\n",
    "$f(x) = 3x^{4} + 3x^2 + 45\\sqrt{x}$ with initial interval $[0, 10]$\n"
   ]
  },
  {
   "cell_type": "code",
   "execution_count": null,
   "metadata": {},
   "outputs": [],
   "source": []
  },
  {
   "cell_type": "markdown",
   "metadata": {},
   "source": [
    "### Newton-Rhapson's Method\n",
    "**Exercise 2** Please explain the given code below (i.e., guide questions: explain the parameters <code>APPROX, TOL, N</code> of the function, how can it be used). "
   ]
  },
  {
   "cell_type": "code",
   "execution_count": 2,
   "metadata": {},
   "outputs": [
    {
     "name": "stdout",
     "output_type": "stream",
     "text": [
      "Iteration 0: \t 0.09460784396394763\n",
      "Iteration 1: \t 0.08924212135615266\n",
      "Iteration 2: \t 0.08390270459952838\n",
      "Iteration 3: \t 0.07858946980499493\n",
      "Iteration 4: \t 0.073302301387234\n",
      "Iteration 5: \t 0.06804110355606952\n",
      "Iteration 6: \t 0.06280582870164131\n",
      "Iteration 7: \t 0.05759654686253238\n",
      "Iteration 8: \t 0.052413613819564046\n",
      "Iteration 9: \t 0.04725807203022288\n",
      "Iteration 10: \t 0.042132588945245616\n",
      "Iteration 11: \t 0.03704359570230483\n",
      "Iteration 12: \t 0.032005974076450575\n",
      "Iteration 13: \t 0.027052700363534018\n",
      "Iteration 14: \t 0.02225261251039701\n",
      "Iteration 15: \t 0.017736720655889132\n",
      "Iteration 16: \t 0.013720002320203198\n",
      "Iteration 17: \t 0.010481012631890935\n",
      "Iteration 18: \t 0.00826523035351002\n",
      "Iteration 19: \t 0.00714155649361498\n",
      "Iteration 20: \t 0.006840168942220679\n",
      "Iteration 21: \t 0.0068194167138889965\n",
      "Newton's method local optima: x =  0.00681932148757599\n"
     ]
    }
   ],
   "source": [
    "# Approx is the initial guess\n",
    "# Tol is the Tolerance\n",
    "# N refers sa maximum number of iterations\n",
    "\n",
    "APPROX = 0.1\n",
    "TOL = 10**-5\n",
    "N = 100\n",
    "\n",
    "\n",
    "# defining the function that we are using\n",
    "\n",
    "def f(x):\n",
    "    return math.pow((1+x),204)-440*x-1\n",
    "\n",
    "# defining the first derivative of the given function\n",
    "\n",
    "def fprime(x):\n",
    "    return 204*math.pow((x+1),203) - 440\n",
    "\n",
    "\n",
    "#implementing the Newton's Method which has a parameter aprrox as initial value, tolerance, and maximum number of iterations\n",
    "\n",
    "def newtons(approx, tol, n):\n",
    "    p0 = approx                         #it will initialize yung ating initial guess\n",
    "    \n",
    "    for i in range(0, n):               # it will reiterate until umabot sa sinet na maximum iteration\n",
    "        p = p0 - (f(p0)/fprime(p0))     #calculation for the guess\n",
    "        \n",
    "        if abs(p - p0) < tol:           # if the function value nasatisfy yung condition, (below na sa tolerance) it will declare it as the root, else it will continue to reiterate\n",
    "            return p\n",
    "        print(f'Iteration {i}: \\t {p}')  \n",
    "        p0 = p                          # it will update our guess and will be used for next iteration\n",
    "    return \"The method failed after {} iterations\".format(n)     # it will fail if hindi naabot yung certain condition sa sinet na range.\n",
    "\n",
    "output = newtons(APPROX, TOL, N)                              #calling the method\n",
    "print(\"Newton's method local optima: x = \", output)           #print the output"
   ]
  },
  {
   "cell_type": "markdown",
   "metadata": {},
   "source": [
    "Then, use the <code>newtons</code> function to the following equations. Explain their results. \n",
    "\n",
    "- $f(x) = x^2 - 2$ where $x_0 = 1$ as the initial guess\n",
    "- $f(x) = 2x^3 + x^2 - x + 1$ where $x_0 = -5$ as the initial guess\n",
    "- $f(x) = \\frac{1}{3}x^{\\frac{-2}{3}}$ where $x_0 = 1$ as the initial guess\n",
    "- $f(x) = \\tan{x}$ where $x_0 = 0.1$ as the initial guess\n",
    "- $f(x) = x^3 - 7x^2 + 8x - 3$ where $x_0 = 0.45$ as the initial guess"
   ]
  },
  {
   "cell_type": "markdown",
   "metadata": {},
   "source": [
    "**Exercise 3**. Write your own function! \n",
    "\n",
    "3. Write a function with the following function signature <code>newton(z, f, fprime, max_iter=100, tol=1e-6)</code> where\n",
    "- <code>z</code> is a starting value\n",
    "- <code>f</code> is a function of <code>z</code>\n",
    "- <code>fprime</code> is the derivative of <code>f</code>"
   ]
  }
 ],
 "metadata": {
  "kernelspec": {
   "display_name": "Python 3 (ipykernel)",
   "language": "python",
   "name": "python3"
  },
  "language_info": {
   "codemirror_mode": {
    "name": "ipython",
    "version": 3
   },
   "file_extension": ".py",
   "mimetype": "text/x-python",
   "name": "python",
   "nbconvert_exporter": "python",
   "pygments_lexer": "ipython3",
   "version": "3.9.7"
  }
 },
 "nbformat": 4,
 "nbformat_minor": 2
}
