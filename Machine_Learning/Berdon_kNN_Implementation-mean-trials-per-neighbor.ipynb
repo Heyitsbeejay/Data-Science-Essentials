{
 "cells": [
  {
   "cell_type": "markdown",
   "id": "c8529403",
   "metadata": {},
   "source": [
    "##   Similarity Based Learning: the k-Nearest Neighbor (kNN) Classification\n",
    "\n",
    "DS322: Machine Learning <br>\n",
    "University of Science and Technology of Southern Philippines <br>\n",
    "\n",
    "##### Student Name: <code>Joear T. Berdon</code>\n",
    " \n",
    "Instructor: **Matthew R. Maulion, MSc** <br>\n",
    "Chairman, Data Science Department"
   ]
  },
  {
   "cell_type": "code",
   "execution_count": 1,
   "id": "551c0c69",
   "metadata": {},
   "outputs": [],
   "source": [
    "import pandas as pd\n",
    "import mglearn\n",
    "import numpy as np\n",
    "import matplotlib.pyplot as plt\n",
    "\n",
    "# Warings\n",
    "import warnings\n",
    "warnings.filterwarnings('ignore')\n",
    "\n",
    "from sklearn import datasets\n",
    "from sklearn.model_selection import train_test_split\n",
    "from sklearn.neighbors import KNeighborsClassifier\n",
    "\n",
    "%matplotlib inline"
   ]
  },
  {
   "cell_type": "markdown",
   "id": "9bd6815a",
   "metadata": {},
   "source": [
    "### For Iris Dataset"
   ]
  },
  {
   "cell_type": "code",
   "execution_count": 2,
   "id": "91c4f64b",
   "metadata": {},
   "outputs": [],
   "source": [
    "\n",
    "iris_dataset = datasets.load_iris()"
   ]
  },
  {
   "cell_type": "code",
   "execution_count": 3,
   "id": "b7f80134",
   "metadata": {},
   "outputs": [],
   "source": [
    "#splitting the dataset in features and target variable\n",
    "iris_x = iris_dataset.data\n",
    "iris_y = iris_dataset.target"
   ]
  },
  {
   "cell_type": "code",
   "execution_count": 4,
   "id": "0526d307",
   "metadata": {
    "scrolled": true
   },
   "outputs": [],
   "source": [
    "\n",
    "#Mean Plot of Train and Test Accuracy vs n_neighbors \n",
    "\n",
    "#list of neighbors from 1-40\n",
    "\n",
    "aneighbor_list = range(1, 41)\n",
    "\n",
    "#creating a list for train and test mean accuracy ranging 1-40 neighbors. it will store the mean accuraries for each n_neighbor\n",
    "\n",
    "atrain_mean_list_accuracy = []\n",
    "atest_mean_list_accuracy = []\n",
    "\n",
    "for n_neighbors in aneighbor_list:\n",
    "    \n",
    "    #list for train and test accuracy for each n_neighbor. It will store the values for each trial\n",
    "    atrain_list_accuracy = []\n",
    "    atest_list_accuracy= []\n",
    "    \n",
    "    #Loop for the 50 trials per n_neighbors\n",
    "    for i in range(50):\n",
    "        \n",
    "        #splitting data in test and train segments\n",
    "        x_train, x_test, y_train, y_test = train_test_split(iris_x, iris_y, test_size=0.40, random_state = None)\n",
    "         \n",
    "        #building the model\n",
    "        akNN = KNeighborsClassifier(n_neighbors=n_neighbors)\n",
    "        akNN.fit(x_train, y_train)\n",
    "        \n",
    "        #record the set accuracy\n",
    "        atrain_list_accuracy.append(akNN.score(x_train, y_train))\n",
    "        atest_list_accuracy.append(akNN.score(x_test, y_test))\n",
    "    \n",
    "    #calculating the mean of the accuracy\n",
    "    atrain_mean_acccuracy = np.mean(atrain_list_accuracy)\n",
    "    atest_mean_acccuracy = np.mean(atest_list_accuracy)\n",
    "    \n",
    "    #record the mean accuracy of train and test \n",
    "    atrain_mean_list_accuracy.append(atrain_mean_acccuracy)\n",
    "    atest_mean_list_accuracy.append(atest_mean_acccuracy)\n",
    "\n"
   ]
  },
  {
   "cell_type": "code",
   "execution_count": 5,
   "id": "39766551",
   "metadata": {},
   "outputs": [
    {
     "data": {
      "text/plain": [
       "<matplotlib.legend.Legend at 0x187e5e60d30>"
      ]
     },
     "execution_count": 5,
     "metadata": {},
     "output_type": "execute_result"
    },
    {
     "data": {
      "image/png": "[encoded data removed]",
      "text/plain": [
       "<Figure size 432x288 with 1 Axes>"
      ]
     },
     "metadata": {
      "needs_background": "light"
     },
     "output_type": "display_data"
    }
   ],
   "source": [
    "#visualization\n",
    "plt.plot(aneighbor_list, atrain_mean_list_accuracy, label=\"Mean Train Accuracy\")\n",
    "plt.plot(aneighbor_list, atest_mean_list_accuracy, label=\"Mean Test Accuracy\")\n",
    "plt.ylabel(\"Mean Accuracy\")\n",
    "plt.xlabel(\"n_neighbors\")\n",
    "plt.legend()"
   ]
  },
  {
   "cell_type": "markdown",
   "id": "74c9dd49",
   "metadata": {},
   "source": [
    "##### Comment: \n",
    "\n",
    "After finding the mean of train and test accuracy from 1-40 n_neighbors for the Iris dataset, it is observed a decreasing trend of mean accuracy as the n_neighbors increases. Although the overall mean accuracy remains above 90%, this trend suggests that further increases in n_neighbors will likely result in lower accuracy. Further, it also shows a small difference between the mean train accuracy and mean test accuracy, which indicates that the model does not overfit nor underfit. **In Addition, the optimal range of values for n_neighbors appears to be around 25-30 and 30-35.** In conclusion, the model shows a good performance from n_neighbors 1-40, hence, regardless of the n_neighbors will be using, it does not overfit and gives you good model."
   ]
  },
  {
   "cell_type": "markdown",
   "id": "e2f5c2ad",
   "metadata": {},
   "source": [
    "### For Boston Cancer"
   ]
  },
  {
   "cell_type": "code",
   "execution_count": 6,
   "id": "03af7146",
   "metadata": {},
   "outputs": [],
   "source": [
    "cancer_dataset = datasets.load_breast_cancer()"
   ]
  },
  {
   "cell_type": "code",
   "execution_count": 7,
   "id": "0114de23",
   "metadata": {},
   "outputs": [],
   "source": [
    "boston_x = cancer_dataset.data\n",
    "boston_y = cancer_dataset.target"
   ]
  },
  {
   "cell_type": "code",
   "execution_count": 8,
   "id": "38082b2b",
   "metadata": {},
   "outputs": [],
   "source": [
    "\n",
    "#Mean Plot of Train and Test Accuracy vs n_neighbors \n",
    "\n",
    "#list of neighbors from 1-40\n",
    "\n",
    "bneighbor_list = range(1, 41)\n",
    "\n",
    "#creating a list for train and test mean accuracy ranging 1-40 neighbors. it will store the mean accuraries for each n_neighbor\n",
    "\n",
    "btrain_mean_list_accuracy = []\n",
    "btest_mean_list_accuracy= []\n",
    "\n",
    "for n_neighbors in bneighbor_list:\n",
    "    \n",
    "    #list for train and test accuracy for each n_neighbor. It will store the values for each trial\n",
    "    btrain_list_accuracy = []\n",
    "    btest_list_accuracy= []\n",
    "    \n",
    "    #Loop for the 50 trials per n_neighbors\n",
    "    for i in range(50):\n",
    "        \n",
    "        #splitting data in test and train segments\n",
    "        x_train, x_test, y_train, y_test = train_test_split(boston_x, boston_y, test_size=0.40, random_state = None)\n",
    "         \n",
    "        #building the model\n",
    "        bkNN = KNeighborsClassifier(n_neighbors=n_neighbors)\n",
    "        bkNN.fit(x_train, y_train)\n",
    "        \n",
    "        #record the set accuracy\n",
    "        btrain_list_accuracy.append(bkNN.score(x_train, y_train))\n",
    "        btest_list_accuracy.append(bkNN.score(x_test, y_test))\n",
    "    \n",
    "    #calculating the mean of the accuracy\n",
    "    btrain_mean_acccuracy = np.mean(btrain_list_accuracy)\n",
    "    btest_mean_acccuracy = np.mean(btest_list_accuracy)\n",
    "    \n",
    "    #record the mean accuracy of train and test \n",
    "    btrain_mean_list_accuracy.append(btrain_mean_acccuracy)\n",
    "    btest_mean_list_accuracy.append(btest_mean_acccuracy)\n",
    "\n"
   ]
  },
  {
   "cell_type": "code",
   "execution_count": 9,
   "id": "66fa5b94",
   "metadata": {},
   "outputs": [
    {
     "data": {
      "text/plain": [
       "<matplotlib.legend.Legend at 0x187e6631f10>"
      ]
     },
     "execution_count": 9,
     "metadata": {},
     "output_type": "execute_result"
    },
    {
     "data": {
      "image/png": "[encoded data removed]",
      "text/plain": [
       "<Figure size 432x288 with 1 Axes>"
      ]
     },
     "metadata": {
      "needs_background": "light"
     },
     "output_type": "display_data"
    }
   ],
   "source": [
    "#visualization\n",
    "plt.plot(bneighbor_list, btrain_mean_list_accuracy, label=\"Mean Train Accuracy\")\n",
    "plt.plot(bneighbor_list, btest_mean_list_accuracy, label=\"Mean Test Accuracy\")\n",
    "plt.ylabel(\"Mean Accuracy\")\n",
    "plt.xlabel(\"n_neighbors\")\n",
    "plt.legend()"
   ]
  },
  {
   "cell_type": "markdown",
   "id": "c2d68347",
   "metadata": {},
   "source": [
    "##### Comment: \n",
    "\n",
    "For the Boston Cancer Dataset, it is still observed a decreasing pattern of its Mean Accuracy as its n_neighbors decreases. It also follows a small difference between its mean train and mean test accuracy. **Thus, it gives an optimal n_neighbors from 20-25 and around 35** and we can conclude that the model has a good performance for this dataset."
   ]
  },
  {
   "cell_type": "markdown",
   "id": "078c752a",
   "metadata": {},
   "source": [
    "### For UP College Admission Test  (UPCAT) Prediction"
   ]
  },
  {
   "cell_type": "code",
   "execution_count": 10,
   "id": "10b4107a",
   "metadata": {},
   "outputs": [],
   "source": [
    "UPCAT_dataset = pd.read_excel('UPCAT_DATA2.xlsx', sheet_name=\"100\")"
   ]
  },
  {
   "cell_type": "code",
   "execution_count": 11,
   "id": "b6941b72",
   "metadata": {},
   "outputs": [],
   "source": [
    "UPCAT_x=UPCAT_dataset.drop('Target', axis=1)\n",
    "UPCAT_y=UPCAT_dataset.Target"
   ]
  },
  {
   "cell_type": "code",
   "execution_count": 12,
   "id": "a82a58a5",
   "metadata": {},
   "outputs": [],
   "source": [
    "\n",
    "#Mean Plot of Train and Test Accuracy vs n_neighbors \n",
    "\n",
    "#list of neighbors from 1-40\n",
    "\n",
    "cneighbor_list = range(1, 41)\n",
    "\n",
    "#creating a list for train and test mean accuracy ranging 1-40 neighbors. it will store the mean accuraries for each n_neighbor\n",
    "\n",
    "ctrain_mean_list_accuracy = []\n",
    "ctest_mean_list_accuracy= []\n",
    "\n",
    "for n_neighbors in cneighbor_list:\n",
    "    \n",
    "    #list for train and test accuracy for each n_neighbor. It will store the values for each trial\n",
    "    ctrain_list_accuracy = []\n",
    "    ctest_list_accuracy= []\n",
    "    \n",
    "    #Loop for the 50 trials per n_neighbors\n",
    "    for i in range(50):\n",
    "        \n",
    "        #splitting data in test and train segments\n",
    "        x_train, x_test, y_train, y_test = train_test_split(UPCAT_x, UPCAT_y, test_size=0.40, random_state = None)\n",
    "         \n",
    "        #building the model\n",
    "        ckNN = KNeighborsClassifier(n_neighbors=n_neighbors)\n",
    "        ckNN.fit(x_train, y_train)\n",
    "        \n",
    "        #record the set accuracy\n",
    "        ctrain_list_accuracy.append(ckNN.score(x_train, y_train))\n",
    "        ctest_list_accuracy.append(ckNN.score(x_test, y_test))\n",
    "    \n",
    "    #calculating the mean of the accuracy\n",
    "    ctrain_mean_acccuracy = np.mean(ctrain_list_accuracy)\n",
    "    ctest_mean_acccuracy = np.mean(ctest_list_accuracy)\n",
    "    \n",
    "    #record the mean accuracy of train and test \n",
    "    ctrain_mean_list_accuracy.append(ctrain_mean_acccuracy)\n",
    "    ctest_mean_list_accuracy.append(ctest_mean_acccuracy)\n",
    "\n"
   ]
  },
  {
   "cell_type": "code",
   "execution_count": 13,
   "id": "aa410fc9",
   "metadata": {},
   "outputs": [
    {
     "data": {
      "text/plain": [
       "<matplotlib.legend.Legend at 0x187e6fe49d0>"
      ]
     },
     "execution_count": 13,
     "metadata": {},
     "output_type": "execute_result"
    },
    {
     "data": {
      "image/png": "[encoded data removed]",
      "text/plain": [
       "<Figure size 432x288 with 1 Axes>"
      ]
     },
     "metadata": {
      "needs_background": "light"
     },
     "output_type": "display_data"
    }
   ],
   "source": [
    "#visualization\n",
    "plt.plot(cneighbor_list, ctrain_mean_list_accuracy, label=\"Mean Train Accuracy\")\n",
    "plt.plot(cneighbor_list, ctest_mean_list_accuracy, label=\"Mean Test Accuracy\")\n",
    "plt.ylabel(\"Mean Accuracy\")\n",
    "plt.xlabel(\"n_neighbors\")\n",
    "plt.legend()"
   ]
  },
  {
   "cell_type": "markdown",
   "id": "0f9f6a72",
   "metadata": {},
   "source": [
    "##### Comment: \n",
    "\n",
    "For the UP College Admission Test (UPCAT) Prediction, the graph shows a horizontal pattern of its mean accuracy as the n_neighbors increases. Although, it not seemingly a constant trend, the mean accuracy lies around 85%, illustrating that it does not have a significant difference with changes of the n_neighbors and is consistent of its accuracy. Moreover, the graph also indicates that there is a minimal difference between the mean train accuracy and the mean test accuracy in which it suggests that the model does not overfit nor underfit. Thus, **it gives an optimal n_neighbors around 15-25 n_neighbors and 30-35.**"
   ]
  }
 ],
 "metadata": {
  "kernelspec": {
   "display_name": "Python 3 (ipykernel)",
   "language": "python",
   "name": "python3"
  },
  "language_info": {
   "codemirror_mode": {
    "name": "ipython",
    "version": 3
   },
   "file_extension": ".py",
   "mimetype": "text/x-python",
   "name": "python",
   "nbconvert_exporter": "python",
   "pygments_lexer": "ipython3",
   "version": "3.9.7"
  }
 },
 "nbformat": 4,
 "nbformat_minor": 5
}
