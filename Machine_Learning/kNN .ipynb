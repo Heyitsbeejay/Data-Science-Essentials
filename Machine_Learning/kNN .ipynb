{
 "cells": [
  {
   "cell_type": "markdown",
   "id": "9bd6815a",
   "metadata": {},
   "source": [
    "## For Iris Dataset"
   ]
  },
  {
   "cell_type": "code",
   "execution_count": 45,
   "id": "551c0c69",
   "metadata": {},
   "outputs": [],
   "source": [
    "import pandas as pd\n",
    "import mglearn\n",
    "import numpy as np\n",
    "import matplotlib.pyplot as plt\n",
    "\n",
    "# Warings\n",
    "import warnings\n",
    "warnings.filterwarnings('ignore')\n",
    "\n",
    "from sklearn.model_selection import train_test_split\n",
    "from sklearn.neighbors import KNeighborsClassifier\n",
    "from sklearn.metrics import accuracy_score\n",
    "\n",
    "%matplotlib inline"
   ]
  },
  {
   "cell_type": "code",
   "execution_count": 57,
   "id": "91c4f64b",
   "metadata": {},
   "outputs": [],
   "source": [
    "from sklearn.datasets import load_iris\n",
    "iris_dataset = load_iris()"
   ]
  },
  {
   "cell_type": "code",
   "execution_count": 59,
   "id": "b7f80134",
   "metadata": {},
   "outputs": [],
   "source": [
    "x = iris_dataset.data\n",
    "y = iris_dataset.target"
   ]
  },
  {
   "cell_type": "code",
   "execution_count": 69,
   "id": "0526d307",
   "metadata": {
    "scrolled": true
   },
   "outputs": [
    {
     "data": {
      "text/plain": [
       "<matplotlib.legend.Legend at 0x158681bfa30>"
      ]
     },
     "execution_count": 69,
     "metadata": {},
     "output_type": "execute_result"
    },
    {
     "data": {
      "image/png": "[encoded data removed]",
      "text/plain": [
       "<Figure size 432x288 with 1 Axes>"
      ]
     },
     "metadata": {
      "needs_background": "light"
     },
     "output_type": "display_data"
    }
   ],
   "source": [
    "\n",
    "#Mean Plot of Train and Test Accuracy vs n_neighbors \n",
    "\n",
    "\n",
    "x_train, x_test, y_train, y_test = train_test_split(x, y, test_size=0.25, random_state=0)\n",
    "\n",
    "#list of neighbors from 1-40\n",
    "\n",
    "neighbor_list = range(1, 41)\n",
    "\n",
    "#creating a list for train and test mean accuracy ranging 1-40 neighbors\n",
    "\n",
    "train_mean_list_accuracy = []\n",
    "test_mean_list_accuracy= []\n",
    "\n",
    "\n",
    "#Loop for the 50 trials per n_neighbors\n",
    "\n",
    "for n_neighbors in neighbor_list:\n",
    "    \n",
    "    train_list_accuracy = []\n",
    "    test_list_accuracy= []\n",
    "    \n",
    "    for i in range(50):\n",
    "\n",
    "        kNN = KNeighborsClassifier(n_neighbors=n_neighbors)\n",
    "        kNN.fit(x_train, y_train)\n",
    "\n",
    "        train_list_accuracy.append(kNN.score(x_train, y_train))\n",
    "        test_list_accuracy.append(kNN.score(x_test, y_test))\n",
    "        \n",
    "    train_mean_acccuracy = np.mean(train_list_accuracy)\n",
    "    test_mean_acccuracy = np.mean(test_list_accuracy)\n",
    "    \n",
    "    train_mean_list_accuracy.append(train_mean_acccuracy)\n",
    "    test_mean_list_accuracy.append(test_mean_acccuracy)\n",
    "\n",
    "plt.plot(neighbor_list, train_mean_list_accuracy, label=\"Mean Train Accuracy\")\n",
    "plt.plot(neighbor_list, test_mean_list_accuracy, label=\"Mean Test Accuracy\")\n",
    "plt.ylabel(\"Mean Accuracy\")\n",
    "plt.xlabel(\"n_neighbors\")\n",
    "plt.legend()\n"
   ]
  },
  {
   "cell_type": "code",
   "execution_count": 72,
   "id": "c8d76ece",
   "metadata": {},
   "outputs": [
    {
     "name": "stdout",
     "output_type": "stream",
     "text": [
      "The lowest difference value is: 0.00046992481203000924\n"
     ]
    }
   ],
   "source": [
    "min_diff = None\n",
    "for num1 in train_mean_list_accuracy:\n",
    "    for num2 in test_mean_list_accuracy:\n",
    "        diff = abs(num1 - num2)\n",
    "        if min_diff is None or diff < min_diff:\n",
    "            min_diff = diff\n",
    "\n",
    "print(\"The lowest difference value is:\", min_diff)"
   ]
  },
  {
   "cell_type": "code",
   "execution_count": 84,
   "id": "03af7146",
   "metadata": {},
   "outputs": [
    {
     "name": "stdout",
     "output_type": "stream",
     "text": [
      "The smallest difference value between the mean train accuracy and mean test accuracy is 0.00046992481203000924 \n",
      "where n_neighbor = 3.\n"
     ]
    }
   ],
   "source": [
    "min_diff = None\n",
    "min_range = None\n",
    "for i in range(len(train_mean_list_accuracy)):\n",
    "    diff = abs(train_mean_list_accuracy[i] - test_mean_list_accuracy[i])\n",
    "    if min_diff is None or diff < min_diff:\n",
    "        min_diff = diff\n",
    "        min_range = i\n",
    "\n",
    "print(f\"The smallest difference value between the mean train accuracy and mean test accuracy is {min_diff} \\nwhere n_neighbor = {min_range}.\")\n"
   ]
  },
  {
   "cell_type": "code",
   "execution_count": null,
   "id": "0114de23",
   "metadata": {},
   "outputs": [],
   "source": []
  }
 ],
 "metadata": {
  "kernelspec": {
   "display_name": "Python 3 (ipykernel)",
   "language": "python",
   "name": "python3"
  },
  "language_info": {
   "codemirror_mode": {
    "name": "ipython",
    "version": 3
   },
   "file_extension": ".py",
   "mimetype": "text/x-python",
   "name": "python",
   "nbconvert_exporter": "python",
   "pygments_lexer": "ipython3",
   "version": "3.9.7"
  }
 },
 "nbformat": 4,
 "nbformat_minor": 5
}
